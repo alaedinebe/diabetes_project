{
 "cells": [
  {
   "cell_type": "code",
   "execution_count": 43,
   "metadata": {},
   "outputs": [
    {
     "name": "stdout",
     "output_type": "stream",
     "text": [
      "Requirement already satisfied: scikit-learn in /home/alaedine/anaconda3/lib/python3.7/site-packages (0.20.3)\n",
      "Requirement already satisfied: xport in /home/alaedine/anaconda3/lib/python3.7/site-packages (2.0.2)\n",
      "Requirement already satisfied: numpy in /home/alaedine/anaconda3/lib/python3.7/site-packages (1.16.2)\n",
      "Requirement already satisfied: pandas in /home/alaedine/anaconda3/lib/python3.7/site-packages (0.24.2)\n",
      "Requirement already satisfied: scipy>=0.13.3 in /home/alaedine/anaconda3/lib/python3.7/site-packages (from scikit-learn) (1.2.1)\n",
      "Requirement already satisfied: pytz>=2011k in /home/alaedine/anaconda3/lib/python3.7/site-packages (from pandas) (2018.9)\n",
      "Requirement already satisfied: python-dateutil>=2.5.0 in /home/alaedine/anaconda3/lib/python3.7/site-packages (from pandas) (2.8.0)\n",
      "Requirement already satisfied: six>=1.5 in /home/alaedine/anaconda3/lib/python3.7/site-packages (from python-dateutil>=2.5.0->pandas) (1.12.0)\n"
     ]
    }
   ],
   "source": [
    "!pip install scikit-learn xport numpy pandas"
   ]
  },
  {
   "cell_type": "code",
   "execution_count": 44,
   "metadata": {},
   "outputs": [],
   "source": [
    "from os import listdir\n",
    "from os.path import isfile, join\n",
    "import xport\n",
    "import pandas as pd\n",
    "import numpy as np\n",
    "\n",
    "from sklearn.svm import SVC\n",
    "from sklearn.neural_network import MLPClassifier\n",
    "from sklearn.naive_bayes import ComplementNB\n",
    "from sklearn.ensemble import RandomForestClassifier, GradientBoostingClassifier\n",
    "\n",
    "from sklearn.model_selection import KFold, train_test_split\n",
    "from sklearn.pipeline import make_pipeline\n",
    "from sklearn.preprocessing import StandardScaler\n",
    "from sklearn.metrics import precision_recall_fscore_support, fbeta_score\n",
    "\n",
    "from sklearn.ensemble import RandomForestRegressor \n",
    "from sklearn.ensemble import RandomForestClassifier\n",
    "from sklearn.metrics import mean_absolute_error\n",
    "from matplotlib import pyplot\n",
    "from sklearn.metrics import accuracy_score\n",
    "from sklearn.metrics import precision_score\n",
    "from sklearn.metrics import recall_score\n",
    "from sklearn.metrics import f1_score\n",
    "from sklearn.metrics import cohen_kappa_score\n",
    "from sklearn.metrics import roc_auc_score\n",
    "from sklearn.metrics import confusion_matrix"
   ]
  },
  {
   "cell_type": "code",
   "execution_count": 45,
   "metadata": {},
   "outputs": [
    {
     "data": {
      "text/plain": [
       "['Data/DIQ_H.XPT',\n",
       " 'Data/DIQ_C.XPT',\n",
       " 'Data/DIQ_B.XPT',\n",
       " 'Data/DIQ_I.XPT',\n",
       " 'Data/DIQ_G.XPT',\n",
       " 'Data/DIQ_F.XPT']"
      ]
     },
     "execution_count": 45,
     "metadata": {},
     "output_type": "execute_result"
    }
   ],
   "source": [
    "data_path = \"Data/\"\n",
    "data_files = [join(data_path, f) for f in listdir(data_path) if isfile(join(data_path, f))] #\n",
    "data_files"
   ]
  },
  {
   "cell_type": "code",
   "execution_count": 61,
   "metadata": {},
   "outputs": [
    {
     "name": "stdout",
     "output_type": "stream",
     "text": [
      "Data/DIQ_F.XPT (9575, 54)\n"
     ]
    },
    {
     "data": {
      "text/plain": [
       "Index(['SEQN', 'DIQ160', 'DIQ170', 'DIQ180', 'DIQ050', 'DIQ230', 'DIQ240',\n",
       "       'DID250', 'DID260', 'DIQ260U', 'DIQ275', 'DIQ300S', 'DIQ300D',\n",
       "       'DID310S', 'DID310D', 'DID320', 'DID341', 'DID350', 'DIQ350U',\n",
       "       'DIQ360'],\n",
       "      dtype='object')"
      ]
     },
     "execution_count": 61,
     "metadata": {},
     "output_type": "execute_result"
    }
   ],
   "source": [
    "n_file = 1\n",
    "data_path_latest = 'Data/DIQ_I.XPT' #choix du fichier de travail\n",
    "df = pd.read_sas(data_path_latest)\n",
    "print(data_files[-1], df.shape)\n",
    "\n",
    "na = float(0)\n",
    "df = df.fillna(value=na) #missing values\n",
    "\n",
    "df = df.drop(['DIQ010', 'DID040', 'DIQ175E', 'DIQ172', 'DIQ175A', 'DIQ175B', 'DIQ175C', 'DIQ175D', 'DIQ175F', 'DIQ175G', 'DIQ175G', 'DIQ175H', 'DIQ175I', 'DIQ175J', 'DIQ175K', 'DIQ175L', 'DIQ175M', 'DIQ175N', 'DIQ175O', 'DIQ175P', 'DIQ175Q', 'DIQ175R', 'DIQ175S', 'DIQ175T', 'DIQ175U', 'DIQ175V', 'DIQ175W', 'DIQ175X', 'DID060', 'DIQ060U',\n",
    "       'DIQ070', 'DIQ280', 'DIQ291', 'DID330', 'DIQ080'], axis=1)\n",
    "#df.head()\n",
    "df.columns\n",
    "\n",
    "#clean des datas fini"
   ]
  },
  {
   "cell_type": "code",
   "execution_count": 75,
   "metadata": {
    "scrolled": true
   },
   "outputs": [
    {
     "name": "stdout",
     "output_type": "stream",
     "text": [
      "(9575, 18)\n",
      "(9575, 1)\n"
     ]
    },
    {
     "data": {
      "text/plain": [
       "2.0    5521\n",
       "0.0    3530\n",
       "1.0     513\n",
       "9.0      11\n",
       "Name: DIQ160, dtype: int64"
      ]
     },
     "execution_count": 75,
     "metadata": {},
     "output_type": "execute_result"
    }
   ],
   "source": [
    "#définition des X et des Y\n",
    "\n",
    "X = df[['DIQ170', 'DIQ180', 'DIQ050', 'DIQ230', 'DIQ240',\n",
    "       'DID250', 'DID260', 'DIQ260U', 'DIQ275', 'DIQ300S', 'DIQ300D',\n",
    "       'DID310S', 'DID310D', 'DID320', 'DID341', 'DID350', 'DIQ350U',\n",
    "       'DIQ360']]\n",
    "Y = df[[\"DIQ160\"]]\n",
    "\n",
    "print(X.shape)\n",
    "print(Y.shape)\n",
    "\n",
    "df['DIQ160'].value_counts()"
   ]
  },
  {
   "cell_type": "code",
   "execution_count": 60,
   "metadata": {},
   "outputs": [
    {
     "data": {
      "text/html": [
       "<div>\n",
       "<style scoped>\n",
       "    .dataframe tbody tr th:only-of-type {\n",
       "        vertical-align: middle;\n",
       "    }\n",
       "\n",
       "    .dataframe tbody tr th {\n",
       "        vertical-align: top;\n",
       "    }\n",
       "\n",
       "    .dataframe thead th {\n",
       "        text-align: right;\n",
       "    }\n",
       "</style>\n",
       "<table border=\"1\" class=\"dataframe\">\n",
       "  <thead>\n",
       "    <tr style=\"text-align: right;\">\n",
       "      <th></th>\n",
       "      <th>SEQN</th>\n",
       "      <th>DIQ160</th>\n",
       "      <th>DIQ170</th>\n",
       "      <th>DIQ180</th>\n",
       "      <th>DIQ050</th>\n",
       "      <th>DIQ230</th>\n",
       "      <th>DIQ240</th>\n",
       "      <th>DID250</th>\n",
       "      <th>DID260</th>\n",
       "      <th>DIQ260U</th>\n",
       "      <th>DIQ275</th>\n",
       "      <th>DIQ300S</th>\n",
       "      <th>DIQ300D</th>\n",
       "      <th>DID310S</th>\n",
       "      <th>DID310D</th>\n",
       "      <th>DID320</th>\n",
       "      <th>DID341</th>\n",
       "      <th>DID350</th>\n",
       "      <th>DIQ350U</th>\n",
       "      <th>DIQ360</th>\n",
       "    </tr>\n",
       "  </thead>\n",
       "  <tbody>\n",
       "    <tr>\n",
       "      <th>0</th>\n",
       "      <td>83732.0</td>\n",
       "      <td>0.0</td>\n",
       "      <td>0.0</td>\n",
       "      <td>0.0</td>\n",
       "      <td>1.0</td>\n",
       "      <td>4.0</td>\n",
       "      <td>1.0</td>\n",
       "      <td>2.0</td>\n",
       "      <td>1.0</td>\n",
       "      <td>1.0</td>\n",
       "      <td>1.0</td>\n",
       "      <td>134.0</td>\n",
       "      <td>72.0</td>\n",
       "      <td>6666.0</td>\n",
       "      <td>6666.0</td>\n",
       "      <td>9999.0</td>\n",
       "      <td>5.397605e-79</td>\n",
       "      <td>1.0</td>\n",
       "      <td>1.0</td>\n",
       "      <td>2.0</td>\n",
       "    </tr>\n",
       "    <tr>\n",
       "      <th>1</th>\n",
       "      <td>83733.0</td>\n",
       "      <td>2.0</td>\n",
       "      <td>2.0</td>\n",
       "      <td>2.0</td>\n",
       "      <td>2.0</td>\n",
       "      <td>0.0</td>\n",
       "      <td>0.0</td>\n",
       "      <td>0.0</td>\n",
       "      <td>0.0</td>\n",
       "      <td>0.0</td>\n",
       "      <td>0.0</td>\n",
       "      <td>0.0</td>\n",
       "      <td>0.0</td>\n",
       "      <td>0.0</td>\n",
       "      <td>0.0</td>\n",
       "      <td>0.0</td>\n",
       "      <td>0.000000e+00</td>\n",
       "      <td>0.0</td>\n",
       "      <td>0.0</td>\n",
       "      <td>0.0</td>\n",
       "    </tr>\n",
       "    <tr>\n",
       "      <th>2</th>\n",
       "      <td>83734.0</td>\n",
       "      <td>0.0</td>\n",
       "      <td>0.0</td>\n",
       "      <td>0.0</td>\n",
       "      <td>2.0</td>\n",
       "      <td>3.0</td>\n",
       "      <td>2.0</td>\n",
       "      <td>0.0</td>\n",
       "      <td>2.0</td>\n",
       "      <td>2.0</td>\n",
       "      <td>1.0</td>\n",
       "      <td>141.0</td>\n",
       "      <td>68.0</td>\n",
       "      <td>140.0</td>\n",
       "      <td>60.0</td>\n",
       "      <td>9999.0</td>\n",
       "      <td>2.000000e+00</td>\n",
       "      <td>2.0</td>\n",
       "      <td>2.0</td>\n",
       "      <td>2.0</td>\n",
       "    </tr>\n",
       "    <tr>\n",
       "      <th>3</th>\n",
       "      <td>83735.0</td>\n",
       "      <td>1.0</td>\n",
       "      <td>1.0</td>\n",
       "      <td>1.0</td>\n",
       "      <td>2.0</td>\n",
       "      <td>0.0</td>\n",
       "      <td>0.0</td>\n",
       "      <td>0.0</td>\n",
       "      <td>0.0</td>\n",
       "      <td>0.0</td>\n",
       "      <td>0.0</td>\n",
       "      <td>0.0</td>\n",
       "      <td>0.0</td>\n",
       "      <td>0.0</td>\n",
       "      <td>0.0</td>\n",
       "      <td>0.0</td>\n",
       "      <td>0.000000e+00</td>\n",
       "      <td>0.0</td>\n",
       "      <td>0.0</td>\n",
       "      <td>0.0</td>\n",
       "    </tr>\n",
       "    <tr>\n",
       "      <th>4</th>\n",
       "      <td>83736.0</td>\n",
       "      <td>2.0</td>\n",
       "      <td>2.0</td>\n",
       "      <td>2.0</td>\n",
       "      <td>2.0</td>\n",
       "      <td>0.0</td>\n",
       "      <td>0.0</td>\n",
       "      <td>0.0</td>\n",
       "      <td>0.0</td>\n",
       "      <td>0.0</td>\n",
       "      <td>0.0</td>\n",
       "      <td>0.0</td>\n",
       "      <td>0.0</td>\n",
       "      <td>0.0</td>\n",
       "      <td>0.0</td>\n",
       "      <td>0.0</td>\n",
       "      <td>0.000000e+00</td>\n",
       "      <td>0.0</td>\n",
       "      <td>0.0</td>\n",
       "      <td>0.0</td>\n",
       "    </tr>\n",
       "  </tbody>\n",
       "</table>\n",
       "</div>"
      ],
      "text/plain": [
       "      SEQN  DIQ160  DIQ170  DIQ180  DIQ050  DIQ230  DIQ240  DID250  DID260  \\\n",
       "0  83732.0     0.0     0.0     0.0     1.0     4.0     1.0     2.0     1.0   \n",
       "1  83733.0     2.0     2.0     2.0     2.0     0.0     0.0     0.0     0.0   \n",
       "2  83734.0     0.0     0.0     0.0     2.0     3.0     2.0     0.0     2.0   \n",
       "3  83735.0     1.0     1.0     1.0     2.0     0.0     0.0     0.0     0.0   \n",
       "4  83736.0     2.0     2.0     2.0     2.0     0.0     0.0     0.0     0.0   \n",
       "\n",
       "   DIQ260U  DIQ275  DIQ300S  DIQ300D  DID310S  DID310D  DID320        DID341  \\\n",
       "0      1.0     1.0    134.0     72.0   6666.0   6666.0  9999.0  5.397605e-79   \n",
       "1      0.0     0.0      0.0      0.0      0.0      0.0     0.0  0.000000e+00   \n",
       "2      2.0     1.0    141.0     68.0    140.0     60.0  9999.0  2.000000e+00   \n",
       "3      0.0     0.0      0.0      0.0      0.0      0.0     0.0  0.000000e+00   \n",
       "4      0.0     0.0      0.0      0.0      0.0      0.0     0.0  0.000000e+00   \n",
       "\n",
       "   DID350  DIQ350U  DIQ360  \n",
       "0     1.0      1.0     2.0  \n",
       "1     0.0      0.0     0.0  \n",
       "2     2.0      2.0     2.0  \n",
       "3     0.0      0.0     0.0  \n",
       "4     0.0      0.0     0.0  "
      ]
     },
     "execution_count": 60,
     "metadata": {},
     "output_type": "execute_result"
    }
   ],
   "source": [
    "#On a un pb : y'a bcp plus de y=2 (pas prediabtiques) que de y=1 (prediabetiques).\n",
    "# On met en place des poids\n",
    "zero=float(0)\n",
    "one=float(1)\n",
    "\n",
    "(Y == one).sum() / len(Y)\n",
    "w0, w1 = (Y == zero).sum() / len(Y), (Y == one).sum() / len(Y)\n",
    "\n",
    "X, Y = np.array(X), np.array(Y)\n",
    "df.head()"
   ]
  },
  {
   "cell_type": "raw",
   "metadata": {},
   "source": [
    "#Some doc for features\n",
    "\n",
    "- DIQ170 - Ever told have health risk for diabetes\n",
    "- DIQ180 - Had blood tested past three years\n",
    "- DIQ050 - Taking insulin now\n",
    "- DIQ230 - How long ago saw a diabetes specialist\n",
    "- DIQ240 - Is there one Dr you see for diabetes\n",
    "- DID250 - Past year how many times seen doctor\n",
    "- DID260 - How often check blood for glucose/sugar\n",
    "- DIQ260U - Unit of measure (day/week/month/year)\n",
    "- DIQ275 - Past year Dr checked for A1C\n",
    "- DIQ300S - What was your recent SBP\n",
    "- DIQ300D - What was your recent DBP\n",
    "- DID310S - What does Dr say SBP should be\n",
    "- DID310D - What does Dr say DBP should be\n",
    "- DID320 - What was most recent LDL number\n",
    "- DID341 - Past year times Dr check feet for sores\n",
    "- DID350 - How often do you check your feet\n",
    "- DIQ350U - Unit of measure (day/week/month/year)\n",
    "- DIQ360 - Last time had pupils dilated for exam"
   ]
  },
  {
   "cell_type": "code",
   "execution_count": 80,
   "metadata": {},
   "outputs": [
    {
     "name": "stdout",
     "output_type": "stream",
     "text": [
      "Loading complete.\n",
      "Model defined.\n"
     ]
    },
    {
     "name": "stderr",
     "output_type": "stream",
     "text": [
      "/home/alaedine/anaconda3/lib/python3.7/site-packages/ipykernel_launcher.py:11: DataConversionWarning: A column-vector y was passed when a 1d array was expected. Please change the shape of y to (n_samples,), for example using ravel().\n",
      "  # This is added back by InteractiveShellApp.init_path()\n"
     ]
    },
    {
     "name": "stdout",
     "output_type": "stream",
     "text": [
      "Algorithm trained.\n",
      "Model score :\n",
      "0.9279749478079332\n"
     ]
    }
   ],
   "source": [
    "# Break off validation set from training data\n",
    "X_train, X_valid, y_train, y_valid = train_test_split(X, Y, train_size=0.9, test_size=0.1, random_state=0)\n",
    "\n",
    "print(\"Loading complete.\")\n",
    "\n",
    "# Define the models\n",
    "model = RandomForestClassifier(n_estimators=150, random_state=0)\n",
    "\n",
    "print(\"Model defined.\")\n",
    "\n",
    "model.fit(X_train, y_train) #Entrainer l'algo\n",
    "\n",
    "print(\"Algorithm trained.\")\n",
    "\n",
    "preds = model.predict(X_valid) #Le faire tourner sur des données jamais vues\n",
    "\n",
    "print(\"Model score :\")\n",
    "print(model.score(X_valid, y_valid))"
   ]
  }
 ],
 "metadata": {
  "kernelspec": {
   "display_name": "Python 3",
   "language": "python",
   "name": "python3"
  },
  "language_info": {
   "codemirror_mode": {
    "name": "ipython",
    "version": 3
   },
   "file_extension": ".py",
   "mimetype": "text/x-python",
   "name": "python",
   "nbconvert_exporter": "python",
   "pygments_lexer": "ipython3",
   "version": "3.7.3"
  }
 },
 "nbformat": 4,
 "nbformat_minor": 2
}
